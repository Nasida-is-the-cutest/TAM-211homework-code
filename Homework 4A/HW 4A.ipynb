{
 "cells": [
  {
   "cell_type": "code",
   "execution_count": null,
   "id": "ebf5287b",
   "metadata": {},
   "outputs": [],
   "source": [
    "#HW4A.3\n",
    "P1=41\n",
    "P2=36\n",
    "a=4\n",
    "b=5\n",
    "Fad=P1/b*a+P2\n",
    "print(-Fad)"
   ]
  },
  {
   "cell_type": "code",
   "execution_count": null,
   "id": "6c03464f",
   "metadata": {},
   "outputs": [
    {
     "name": "stdout",
     "output_type": "stream",
     "text": [
      "892.5\n"
     ]
    }
   ],
   "source": [
    "#HW4A.4\n",
    "f1=939\n",
    "f2=1190 \n",
    "a=7\n",
    "\n",
    "fbd=4/3#*P\n",
    "fcd=-17**0.5/6#*P\n",
    "p1=f2/abs(fcd)\n",
    "fbc=2/3*2**0.5#*p\n",
    "p2=f1/fbc\n",
    "fbd=4/3#*P\n",
    "p3=f2/fbd\n",
    "P=min(p1,p2,p3)\n",
    "\n",
    "print(P)"
   ]
  },
  {
   "cell_type": "code",
   "execution_count": null,
   "id": "3e8876f1",
   "metadata": {},
   "outputs": [
    {
     "name": "stdout",
     "output_type": "stream",
     "text": [
      "fbc=fab= 6.414906558474939\n",
      "fad= 3.125\n"
     ]
    }
   ],
   "source": [
    "#HW4A.5\n",
    "import numpy as np\n",
    "f1=9\n",
    "f2=3\n",
    "theta=np.radians(1)\n",
    "A=np.array([\n",
    "    [-1,4/5,0,-np.sin(theta)],\n",
    "    [0,3/5,-3/5,0],\n",
    "    [0,4/5,4/5,0],\n",
    "    [0,-3/5,0,np.cos(theta)]\n",
    "])\n",
    "b=np.array([0,f2,f1,0])\n",
    "x=np.linalg.solve(A,b)\n",
    "print(\"fbc=fab=\",x[0])\n",
    "print(\"fad=\",x[2])\n"
   ]
  },
  {
   "cell_type": "code",
   "execution_count": null,
   "id": "ebdf2eba",
   "metadata": {},
   "outputs": [
    {
     "name": "stdout",
     "output_type": "stream",
     "text": [
      "fje= 2.4037008503093253\n",
      "fji= -12.671051872498808\n",
      "fbl= 0\n",
      "fcj= 6.6101773383506455\n"
     ]
    }
   ],
   "source": [
    "#HW4A.6\n",
    "p1  = 5.0 # N\n",
    "p2  = 3.0 # N\n",
    "p3  = 4.0 # N\n",
    "fg=(2*p1+4*p2+6*p1+10*p3)/12\n",
    "fde=(6*fg-4*p3)/3\n",
    "\n",
    "A=np.array([[2/13**0.5,2/5**0.5],\n",
    "            [3/13**0.5,1/5**0.5]\n",
    "            ])\n",
    "b=np.array([-fde,-fg+p3])\n",
    "x=np.linalg.solve(A,b)\n",
    "print(\"fje=\",x[0])\n",
    "print(\"fji=\",x[1])\n",
    "print(\"fbl=\",0)\n",
    "#以K为支点算M\n",
    "d_KtoCJ=4/13**0.5\n",
    "fcj=(2*p1+4*(p1+p2+p3-fg)-2*fde)/d_KtoCJ\n",
    "print(\"fcj=\",fcj)"
   ]
  },
  {
   "cell_type": "code",
   "execution_count": null,
   "id": "09d101d6",
   "metadata": {},
   "outputs": [
    {
     "name": "stdout",
     "output_type": "stream",
     "text": [
      "fig= -6.848581766208573e+16\n",
      "fic= 6.84858176620857e+16\n",
      "fhi= 2.2517998136852484e+16\n",
      "fbc= 25.875\n",
      "fhg= 11.08836919585613\n",
      "fai= -26.231913411911073\n",
      "fde= 25.625\n"
     ]
    }
   ],
   "source": [
    "#HW4A.7\n",
    "P1 = 3.0 # kips\n",
    "P2 = 2.0 # kips\n",
    "P3 = 3.0 # kips\n",
    "a = 3.0 # ft\n",
    "b = 9.0 # ft\n",
    "\n",
    "l=(a**2+b**2)**0.5\n",
    "\n",
    "mE=P3*b*6-P1*a*3-P2*a\n",
    "FA=mE/b/4\n",
    "\n",
    "FEy=P3*3-FA\n",
    "FEx=0-P1-P2\n",
    "\n",
    "EF=0-FEy/a*(a**2+b**2)**0.5\n",
    "DE=0-(0-FEx-FEy/a*b)\n",
    "DF=P3\n",
    "CD=DE\n",
    "\n",
    "AI=0-FA/a*(a**2+b**2)**0.5\n",
    "AB=FA/a*b\n",
    "BC=AB\n",
    "\n",
    "HG=0-P1/b*(a**2+b**2)**0.5\n",
    "HI=P1/b*a\n",
    "\n",
    "Ix=P2+FA/a*b\n",
    "Iy=FA+HI-P3\n",
    "eql1=np.array([[b/l,b/l],[0-a/l,a/l]])\n",
    "eqr1=np.array([0-Ix,0-Iy])\n",
    "IC,IG=np.linalg.solve(eql1,eqr1)\n",
    "\n",
    "\n",
    "Fx=FEy/a*b\n",
    "Fy=0-DF+FEy\n",
    "eql2=np.array([[b/l,b/l],[0-a/l,a/l]])\n",
    "eqr2=np.array([0-Fx,0-Fy])\n",
    "FC,FG=np.linalg.solve(eql2,eqr2)\n",
    "\n",
    "CG=0-((0+FG+IG-HG)/l*a+P3)\n",
    "\n",
    "print('AB=BC=',AB)\n",
    "print('AI=',AI)\n",
    "print('BI=',P3)\n",
    "print('IG=',IG)\n",
    "print('IH=',HI)\n",
    "print('IC=',IC)\n",
    "print('HG=',HG)\n",
    "print('CG=',CG)\n",
    "print('GF=',FG)\n",
    "print('CF=',FC)\n",
    "print('DF=',DF)\n",
    "print('CD=DE=',DE)\n",
    "print('EF=',EF)\n",
    "\n"
   ]
  },
  {
   "cell_type": "code",
   "execution_count": null,
   "id": "54589c74",
   "metadata": {},
   "outputs": [
    {
     "name": "stdout",
     "output_type": "stream",
     "text": [
      "fbc= -3.0\n",
      "fcf= 4.242640687119286\n",
      "fae= 0\n"
     ]
    },
    {
     "data": {
      "text/plain": [
       "'A=np.array([[a,-a/2**0.5,0],\\n            [1,1/2**0.5,2*a/(5*a*a+b*b-2*a*b)**0.5],\\n            [0,1/2**0.5,-(b-a)/(5*a*a+b*b-2*a*b)**0.5]\\n            ])\\nb=np.array([0,0,p2-fa])\\nx=np.linalg.solve(A,b)'"
      ]
     },
     "execution_count": 6,
     "metadata": {},
     "output_type": "execute_result"
    }
   ],
   "source": [
    "#HW4A.8 \n",
    "a = 4.0 # m\n",
    "b = 5.0 # m\n",
    "P1 = 7.0 # kN\n",
    "P2 = 5.0 # kN\n",
    "P3 = 5.0 # kN\n",
    "\n",
    "CD=DE=AE=0\n",
    "\n",
    "mA=P1*a+P3*a*2\n",
    "CE=FE=mA/a/2\n",
    "FA=P1+P2+P3-FE\n",
    "AB=CF=(CE-P3)*2**0.5\n",
    "AF=FA-P2\n",
    "BC=0-(CE-P3)\n",
    "BF=0-BC\n",
    "\n",
    "print('CD=DE=AE=',0)\n",
    "print('AB=CF=',AB)\n",
    "print('BC=',BC)\n",
    "print('AF=',AF)\n",
    "print('BF=',BF)"
   ]
  },
  {
   "cell_type": "code",
   "execution_count": null,
   "id": "d38ee82b",
   "metadata": {},
   "outputs": [],
   "source": []
  }
 ],
 "metadata": {
  "kernelspec": {
   "display_name": "base",
   "language": "python",
   "name": "python3"
  },
  "language_info": {
   "codemirror_mode": {
    "name": "ipython",
    "version": 3
   },
   "file_extension": ".py",
   "mimetype": "text/x-python",
   "name": "python",
   "nbconvert_exporter": "python",
   "pygments_lexer": "ipython3",
   "version": "3.12.4"
  }
 },
 "nbformat": 4,
 "nbformat_minor": 5
}

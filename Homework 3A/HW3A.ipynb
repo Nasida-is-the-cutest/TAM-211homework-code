{
  "metadata": {
    "kernelspec": {
      "name": "python",
      "display_name": "Python (Pyodide)",
      "language": "python"
    },
    "language_info": {
      "codemirror_mode": {
        "name": "python",
        "version": 3
      },
      "file_extension": ".py",
      "mimetype": "text/x-python",
      "name": "python",
      "nbconvert_exporter": "python",
      "pygments_lexer": "ipython3",
      "version": "3.8"
    }
  },
  "nbformat_minor": 5,
  "nbformat": 4,
  "cells": [
    {
      "id": "7c1866ae",
      "cell_type": "code",
      "source": "#HW 3A 3\nimport numpy as np\nimport sympy as sp\n\nwa = 123 # \nwb = 409  # \na = 10  # x1\nb = 6  # x2\n\nlab = a+b\nfr = wa*a + b*(wa+wb)/2\nprint(\"fr =\", fr)\n\nx = sp.Symbol('x')\nf1 = wa\nf2 = (wb-wa)/b*(x-a) + wa\nI11 = sp.integrate(f1, (x, 0, a))\nI12 = sp.integrate(f2, (x, a, b+a))\n\nf12 = f1 * x\nf22 = f2 * x\nI21 = sp.integrate(f12, (x, 0, a))\nI22 = sp.integrate(f22, (x, a, b+a))\nx_hat = (I21+I22) / (I11+I12)\nprint(\"x_hat =\", x_hat)\nfa=(lab-x_hat)*fr/lab\nprint(\"fa =\", fa)\nfb=x_hat*fr/lab\nprint(\"fb =\", fb)",
      "metadata": {},
      "outputs": [],
      "execution_count": null
    },
    {
      "id": "7b55fb6d",
      "cell_type": "code",
      "source": "#HW 3A 4\nl1=3\nl2=5\ntheta=np.radians(56)\nm=8\nf= (m*np.cos(theta)*l2)/(6*l1)\nprint(\"f =\", f)",
      "metadata": {},
      "outputs": [],
      "execution_count": null
    },
    {
      "id": "8dd0db08",
      "cell_type": "code",
      "source": "# HW 3A 5\nimport numpy as np\n\nP1 = 70.0\nP2 = 85.0\nP3 = 55.0\ntheta = np.radians(55.0)  # deg\nT=(P3*150+80*P2-80*P1)/150\nRcz = (450 *(P1+P2) - 200 * P3 * np.sin(theta)) / 750\nRcy = (-200 * P3 * np.cos(theta) - T* 200) / 750\nprint(\"Rcy =\", Rcy)\nprint(\"Rcz =\", Rcz)\n\nRdy = (-550 * P3 * np.cos(theta) - T * 550) / 750\nRdz = -(-300 * P1 - 300 * P2 + 550 * P3 * np.sin(theta)) / 750\nprint(\"Rdy =\", Rdy)\nprint(\"Rdz =\", Rdz)\nprint(\"T =\", T)",
      "metadata": {},
      "outputs": [],
      "execution_count": null
    },
    {
      "id": "79762fff",
      "cell_type": "code",
      "source": "#HW 3A 6\nf1=5\nf2=8\nf3=9\nl1=2\nl2=2\nNb=(f1*l2+f2*l1+f3*l1*2)/3/l1\nprint(\"Nb =\", Nb)\nxfa=f1\nyfa=f2+f3-Nb\nprint(\"x of fa =\", xfa)\nprint(\"y of fa =\", yfa)",
      "metadata": {},
      "outputs": [],
      "execution_count": null
    },
    {
      "id": "51452e3a",
      "cell_type": "code",
      "source": "#HW 3A 7   \nimport numpy as np\nw=361\na=1\nb=1\nc=4\nd=1\ne=0.5\nW=np.array([0,0,-w])\nAC=np.array([c,b,0])\nCB=np.array([-c,-b-e,d])\nunit_CB=CB/np.linalg.norm(CB)\nt=w*a*np.linalg.norm(CB)/d   \nFCB=t*unit_CB\nprint(\"F CB=\",t*unit_CB)\nFA=-FCB-W\nprint(\"F A =\", FA)\nMA=-np.cross(AC,FCB)-np.cross(np.array([c,-a,0]),W)\nprint(\"M A =\", MA)\n",
      "metadata": {},
      "outputs": [],
      "execution_count": null
    },
    {
      "id": "584517e3",
      "cell_type": "code",
      "source": "#HW 3A 8\nimport numpy as np\nimport sympy as sp\ntheta  = np.radians(50.0) # deg\nw1  = 12.0 # N/m\nw2  = 14.0 # N/m\nx = sp.Symbol('x')\nf1 = w1/9*x**2\nI1 = sp.integrate(f1, (x, 0, 3))\nfx=float(I1)\nprint(\"fx =\", fx)\nf2 = f1 * x\nI2 = sp.integrate(f2, (x, 0, 3))\nx_hat = float(I2 / I1)\nprint(\"x_hat =\", x_hat)\n\ny = sp.Symbol('y')\nf1 = w2/4*y\nI1 = sp.integrate(f1, (y, 0, 4))\nfy=float(I1)\nprint(\"fy =\", fy)\nf2 = f1 * y\nI2 = sp.integrate(f2, (y, 0, 4))\ny_hat = float(I2 / I1)\nprint(\"y_hat =\", y_hat)\n\nBA=np.array([-4-3*np.cos(theta),3*np.sin(theta),0])\nunit_ra=np.array([np.sin(theta),np.cos(theta),0])\n\nfx2=np.array([-np.sin(theta),-np.cos(theta),0])*fx\nbx2=np.array([-4-(3-x_hat)*np.cos(theta),(3-x_hat)*np.sin(theta),0])\n\nfy2=np.array([0,-1,0])*fy\nby2=np.array([-4+y_hat,0,0])\n\nRA=np.linalg.norm(np.cross(bx2,fx2)+np.cross(by2,fy2))/np.linalg.norm(np.cross(BA,unit_ra))\nprint(\"RA =\", RA)\n\nBY=-(RA*unit_ra+fx2+fy2)\nprint(\"BY =\", BY)\n",
      "metadata": {},
      "outputs": [],
      "execution_count": null
    },
    {
      "id": "1ef610e1",
      "cell_type": "code",
      "source": "#HW 3A 9  \nimport numpy as np\nP  = 70.0 # lb\na  = 2.5 # ft\nb  = 4.0 # ft\nc  = 5.0 # ft\n\nR_Ax = P*a/(b+c)\nM_Bx = -2*a*P\nM_By = M_Bx*(b+c)/a\nR_Az = (M_By - 2*a**2*P/(b+c))/c\n\nR_A = [R_Ax,0,R_Az]\nR_B = [-R_Ax,-P,-R_Az]\nM_B = [M_Bx,M_By,0]\nprint(R_A)\nprint(R_B)\nprint(M_B)",
      "metadata": {},
      "outputs": [],
      "execution_count": null
    },
    {
      "id": "3993770d",
      "cell_type": "code",
      "source": "# HW 3A 10\nimport numpy as np\nimport sympy as sp\nfrom scipy.optimize import brentq\nW  = 5.0 # kg\nw  = 5.0 # N/m\nm  = 17.0 # \nx=sp.Symbol('x')\nf1=w/0.5*x\nfr=w*0.5/2\nI1 = sp.integrate(f1,(x,0,0.5))\nI2 = sp.integrate(f1*x,(x,0,0.5))\nx_hat=float(I2/I1)    #《——  报错：SymPy 符号类型与 NumPy 数值类型的冲突，数据类型不匹配\n\ndef f_1(theta):\n    M=fr*x_hat+W*9.81*0.5/2*np.cos(theta)\n    return m*theta-M\n\nRay=fr+W*9.81\nprint(\"Ray =\", Ray)\n\nroot = brentq(f_1,0,np.pi)\nprint(\"theta =\", np.degrees(root))",
      "metadata": {},
      "outputs": [],
      "execution_count": null
    },
    {
      "id": "61cbc332",
      "cell_type": "code",
      "source": "#HW 3A 11   \n# 直接用表示出积分后的函数，不使用内置函数\nimport numpy as np\nimport scipy as sp\n\nv  = 24.0 # m/s\np  = 23.0 # kN\nwg  = 9.0 # kN/m\nw1  = 6.0 # kN/m\nomega  = 5.0 # Hz\ntheta  = np.radians(20.0) # deg\n\nx_hat=5\n\ndef fun(t):\n    w=wg+w1*np.cos(omega*t)\n    fr=10*w\n    return fr\n\ndef T(t):\n    return (fun(t)*x_hat+p*v*t)/np.sin(theta)\n\nroot = sp.optimize.minimize(     \n    lambda t: -T(t[0]), \n    x0=[0], \n    bounds=[(0, 10/v)]\n)   #minimize 函数默认优化变量是一个数组（ndarray），即使只有一个变量（单变量优化），也需要以数组的形式传入和处理。\n#print(\"T =\", root)\nprint(\"最大T值：\", -root.fun)\n\ndef R(t):\n    return fun(t)*(x_hat-1)+(v*t-1)*p\n\nroot2=sp.optimize.minimize(lambda t: -R(t[0]), x0=[0], bounds=[(1/v, 10/v)])\nprint(\"最大R值：=\", -root2.fun)",
      "metadata": {},
      "outputs": [],
      "execution_count": null
    },
    {
      "id": "1e27f723",
      "cell_type": "code",
      "source": "",
      "metadata": {},
      "outputs": [],
      "execution_count": null
    }
  ]
}